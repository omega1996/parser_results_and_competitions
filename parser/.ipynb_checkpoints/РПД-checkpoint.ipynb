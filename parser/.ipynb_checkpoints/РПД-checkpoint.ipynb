{
 "cells": [
  {
   "cell_type": "code",
   "execution_count": 2,
   "metadata": {},
   "outputs": [
    {
     "name": "stdout",
     "output_type": "stream",
     "text": [
      "Collecting yargy\n",
      "\u001b[?25l  Downloading https://files.pythonhosted.org/packages/83/62/813ed60a11ccbc42e43c23c07eda24ff58fe0b36673b53acd828efe9ffe6/yargy-0.11.0-py2.py3-none-any.whl (41kB)\n",
      "\u001b[K    100% |████████████████████████████████| 51kB 449kB/s ta 0:00:01\n",
      "\u001b[?25hCollecting intervaltree==2.1.0 (from yargy)\n",
      "  Downloading https://files.pythonhosted.org/packages/ca/c1/450d109b70fa58ca9d77972b02f69222412f9175ccf99fdeaf167be9583c/intervaltree-2.1.0.tar.gz\n",
      "Collecting backports.functools-lru-cache==1.3 (from yargy)\n",
      "  Downloading https://files.pythonhosted.org/packages/d4/40/0b1db94fdfd71353ae67ec444ff28e0a7ecc25212d1cb94c291b6cd226f9/backports.functools_lru_cache-1.3-py2.py3-none-any.whl\n",
      "Requirement already satisfied: pymorphy2==0.8 in /home/autumn_mint/anaconda3/lib/python3.6/site-packages (from yargy) (0.8)\n",
      "Requirement already satisfied: sortedcontainers in /home/autumn_mint/anaconda3/lib/python3.6/site-packages (from intervaltree==2.1.0->yargy) (1.5.10)\n",
      "Requirement already satisfied: dawg-python>=0.7 in /home/autumn_mint/anaconda3/lib/python3.6/site-packages (from pymorphy2==0.8->yargy) (0.7.2)\n",
      "Requirement already satisfied: pymorphy2-dicts<3.0,>=2.4 in /home/autumn_mint/anaconda3/lib/python3.6/site-packages (from pymorphy2==0.8->yargy) (2.4.393442.3710985)\n",
      "Requirement already satisfied: docopt>=0.6 in /home/autumn_mint/anaconda3/lib/python3.6/site-packages (from pymorphy2==0.8->yargy) (0.6.2)\n",
      "Building wheels for collected packages: intervaltree\n",
      "  Running setup.py bdist_wheel for intervaltree ... \u001b[?25ldone\n",
      "\u001b[?25h  Stored in directory: /home/autumn_mint/.cache/pip/wheels/6b/cf/b0/f7ef2d0f504d26f3e9e70c2369e5725591ccfaf67d528fcbc5\n",
      "Successfully built intervaltree\n",
      "Installing collected packages: intervaltree, backports.functools-lru-cache, yargy\n",
      "Successfully installed backports.functools-lru-cache-1.3 intervaltree-2.1.0 yargy-0.11.0\n",
      "\u001b[33mYou are using pip version 18.0, however version 18.1 is available.\n",
      "You should consider upgrading via the 'pip install --upgrade pip' command.\u001b[0m\n"
     ]
    }
   ],
   "source": [
    "!pip install yargy"
   ]
  },
  {
   "cell_type": "code",
   "execution_count": 9,
   "metadata": {},
   "outputs": [],
   "source": [
    "#imports\n",
    "from yargy import *\n",
    "from docx import *\n",
    "from yargy.predicates import gram, is_capitalized, dictionary, is_upper, length_eq\n",
    "from yargy.pipelines import morph_pipeline\n",
    "import re\n",
    "import glob\n",
    "import os"
   ]
  },
  {
   "cell_type": "code",
   "execution_count": 13,
   "metadata": {},
   "outputs": [
    {
     "ename": "PackageNotFoundError",
     "evalue": "Package not found at '37_РПД _Экология.docx'",
     "output_type": "error",
     "traceback": [
      "\u001b[0;31m---------------------------------------------------------------------------\u001b[0m",
      "\u001b[0;31mPackageNotFoundError\u001b[0m                      Traceback (most recent call last)",
      "\u001b[0;32m<ipython-input-13-b110b0cb5cbb>\u001b[0m in \u001b[0;36m<module>\u001b[0;34m()\u001b[0m\n\u001b[0;32m----> 1\u001b[0;31m \u001b[0mdocument\u001b[0m \u001b[0;34m=\u001b[0m \u001b[0mDocument\u001b[0m\u001b[0;34m(\u001b[0m\u001b[0;34m'37_РПД _Экология.docx'\u001b[0m\u001b[0;34m)\u001b[0m\u001b[0;34m\u001b[0m\u001b[0m\n\u001b[0m",
      "\u001b[0;32m~/.local/lib/python3.6/site-packages/docx/api.py\u001b[0m in \u001b[0;36mDocument\u001b[0;34m(docx)\u001b[0m\n\u001b[1;32m     23\u001b[0m     \"\"\"\n\u001b[1;32m     24\u001b[0m     \u001b[0mdocx\u001b[0m \u001b[0;34m=\u001b[0m \u001b[0m_default_docx_path\u001b[0m\u001b[0;34m(\u001b[0m\u001b[0;34m)\u001b[0m \u001b[0;32mif\u001b[0m \u001b[0mdocx\u001b[0m \u001b[0;32mis\u001b[0m \u001b[0;32mNone\u001b[0m \u001b[0;32melse\u001b[0m \u001b[0mdocx\u001b[0m\u001b[0;34m\u001b[0m\u001b[0m\n\u001b[0;32m---> 25\u001b[0;31m     \u001b[0mdocument_part\u001b[0m \u001b[0;34m=\u001b[0m \u001b[0mPackage\u001b[0m\u001b[0;34m.\u001b[0m\u001b[0mopen\u001b[0m\u001b[0;34m(\u001b[0m\u001b[0mdocx\u001b[0m\u001b[0;34m)\u001b[0m\u001b[0;34m.\u001b[0m\u001b[0mmain_document_part\u001b[0m\u001b[0;34m\u001b[0m\u001b[0m\n\u001b[0m\u001b[1;32m     26\u001b[0m     \u001b[0;32mif\u001b[0m \u001b[0mdocument_part\u001b[0m\u001b[0;34m.\u001b[0m\u001b[0mcontent_type\u001b[0m \u001b[0;34m!=\u001b[0m \u001b[0mCT\u001b[0m\u001b[0;34m.\u001b[0m\u001b[0mWML_DOCUMENT_MAIN\u001b[0m\u001b[0;34m:\u001b[0m\u001b[0;34m\u001b[0m\u001b[0m\n\u001b[1;32m     27\u001b[0m         \u001b[0mtmpl\u001b[0m \u001b[0;34m=\u001b[0m \u001b[0;34m\"file '%s' is not a Word file, content type is '%s'\"\u001b[0m\u001b[0;34m\u001b[0m\u001b[0m\n",
      "\u001b[0;32m~/.local/lib/python3.6/site-packages/docx/opc/package.py\u001b[0m in \u001b[0;36mopen\u001b[0;34m(cls, pkg_file)\u001b[0m\n\u001b[1;32m    114\u001b[0m         \u001b[0;34m*\u001b[0m\u001b[0mpkg_file\u001b[0m\u001b[0;34m*\u001b[0m\u001b[0;34m.\u001b[0m\u001b[0;34m\u001b[0m\u001b[0m\n\u001b[1;32m    115\u001b[0m         \"\"\"\n\u001b[0;32m--> 116\u001b[0;31m         \u001b[0mpkg_reader\u001b[0m \u001b[0;34m=\u001b[0m \u001b[0mPackageReader\u001b[0m\u001b[0;34m.\u001b[0m\u001b[0mfrom_file\u001b[0m\u001b[0;34m(\u001b[0m\u001b[0mpkg_file\u001b[0m\u001b[0;34m)\u001b[0m\u001b[0;34m\u001b[0m\u001b[0m\n\u001b[0m\u001b[1;32m    117\u001b[0m         \u001b[0mpackage\u001b[0m \u001b[0;34m=\u001b[0m \u001b[0mcls\u001b[0m\u001b[0;34m(\u001b[0m\u001b[0;34m)\u001b[0m\u001b[0;34m\u001b[0m\u001b[0m\n\u001b[1;32m    118\u001b[0m         \u001b[0mUnmarshaller\u001b[0m\u001b[0;34m.\u001b[0m\u001b[0munmarshal\u001b[0m\u001b[0;34m(\u001b[0m\u001b[0mpkg_reader\u001b[0m\u001b[0;34m,\u001b[0m \u001b[0mpackage\u001b[0m\u001b[0;34m,\u001b[0m \u001b[0mPartFactory\u001b[0m\u001b[0;34m)\u001b[0m\u001b[0;34m\u001b[0m\u001b[0m\n",
      "\u001b[0;32m~/.local/lib/python3.6/site-packages/docx/opc/pkgreader.py\u001b[0m in \u001b[0;36mfrom_file\u001b[0;34m(pkg_file)\u001b[0m\n\u001b[1;32m     30\u001b[0m         \u001b[0mReturn\u001b[0m \u001b[0ma\u001b[0m \u001b[0;34m|\u001b[0m\u001b[0mPackageReader\u001b[0m\u001b[0;34m|\u001b[0m \u001b[0minstance\u001b[0m \u001b[0mloaded\u001b[0m \u001b[0;32mwith\u001b[0m \u001b[0mcontents\u001b[0m \u001b[0mof\u001b[0m \u001b[0;34m*\u001b[0m\u001b[0mpkg_file\u001b[0m\u001b[0;34m*\u001b[0m\u001b[0;34m.\u001b[0m\u001b[0;34m\u001b[0m\u001b[0m\n\u001b[1;32m     31\u001b[0m         \"\"\"\n\u001b[0;32m---> 32\u001b[0;31m         \u001b[0mphys_reader\u001b[0m \u001b[0;34m=\u001b[0m \u001b[0mPhysPkgReader\u001b[0m\u001b[0;34m(\u001b[0m\u001b[0mpkg_file\u001b[0m\u001b[0;34m)\u001b[0m\u001b[0;34m\u001b[0m\u001b[0m\n\u001b[0m\u001b[1;32m     33\u001b[0m         \u001b[0mcontent_types\u001b[0m \u001b[0;34m=\u001b[0m \u001b[0m_ContentTypeMap\u001b[0m\u001b[0;34m.\u001b[0m\u001b[0mfrom_xml\u001b[0m\u001b[0;34m(\u001b[0m\u001b[0mphys_reader\u001b[0m\u001b[0;34m.\u001b[0m\u001b[0mcontent_types_xml\u001b[0m\u001b[0;34m)\u001b[0m\u001b[0;34m\u001b[0m\u001b[0m\n\u001b[1;32m     34\u001b[0m         \u001b[0mpkg_srels\u001b[0m \u001b[0;34m=\u001b[0m \u001b[0mPackageReader\u001b[0m\u001b[0;34m.\u001b[0m\u001b[0m_srels_for\u001b[0m\u001b[0;34m(\u001b[0m\u001b[0mphys_reader\u001b[0m\u001b[0;34m,\u001b[0m \u001b[0mPACKAGE_URI\u001b[0m\u001b[0;34m)\u001b[0m\u001b[0;34m\u001b[0m\u001b[0m\n",
      "\u001b[0;32m~/.local/lib/python3.6/site-packages/docx/opc/phys_pkg.py\u001b[0m in \u001b[0;36m__new__\u001b[0;34m(cls, pkg_file)\u001b[0m\n\u001b[1;32m     29\u001b[0m             \u001b[0;32melse\u001b[0m\u001b[0;34m:\u001b[0m\u001b[0;34m\u001b[0m\u001b[0m\n\u001b[1;32m     30\u001b[0m                 raise PackageNotFoundError(\n\u001b[0;32m---> 31\u001b[0;31m                     \u001b[0;34m\"Package not found at '%s'\"\u001b[0m \u001b[0;34m%\u001b[0m \u001b[0mpkg_file\u001b[0m\u001b[0;34m\u001b[0m\u001b[0m\n\u001b[0m\u001b[1;32m     32\u001b[0m                 )\n\u001b[1;32m     33\u001b[0m         \u001b[0;32melse\u001b[0m\u001b[0;34m:\u001b[0m  \u001b[0;31m# assume it's a stream and pass it to Zip reader to sort out\u001b[0m\u001b[0;34m\u001b[0m\u001b[0m\n",
      "\u001b[0;31mPackageNotFoundError\u001b[0m: Package not found at '37_РПД _Экология.docx'"
     ]
    }
   ],
   "source": [
    "document = Document('37_РПД _Экология.docx')"
   ]
  },
  {
   "cell_type": "code",
   "execution_count": 3,
   "metadata": {},
   "outputs": [],
   "source": [
    "#rules\n",
    "\n",
    "RPD_task_and_goals=morph_pipeline([\n",
    "    'цель и задача',\n",
    "    'краткий содержание',\n",
    "    'краткий описание',\n",
    "    'аннотация'\n",
    "])\n",
    "\n",
    "RPD_education_result=morph_pipeline([\n",
    "    'планируемый результат обучение'\n",
    "])\n",
    "RPD_discipline_link = morph_pipeline([\n",
    "    'место учебный дисциплина'\n",
    "])\n",
    "RPD_discipline_structure=morph_pipeline([\n",
    "    'содержание дисциплина'\n",
    "])\n",
    "RPD_lecture_theme = morph_pipeline([\n",
    "    'лекции'\n",
    "])\n",
    "RPD_practice_theme = morph_pipeline([\n",
    "    'практика',\n",
    "    'практическое занятие',\n",
    "    'семинар'\n",
    "])\n",
    "RPD_selfwork_theme = morph_pipeline([\n",
    "    'самостоятельный работа'\n",
    "])\n",
    "RPD_literature = morph_pipeline([\n",
    "    'литература'\n",
    "])"
   ]
  },
  {
   "cell_type": "code",
   "execution_count": 4,
   "metadata": {},
   "outputs": [],
   "source": [
    "#parsers\n",
    "parser_RPD_task_and_goals = Parser(RPD_task_and_goals)\n",
    "parser_RPD_education_result = Parser(RPD_education_result)\n",
    "parser_RPD_discipline_link = Parser(RPD_discipline_link)\n",
    "parser_PRD_discipline_structure = Parser(RPD_discipline_structure)\n",
    "parser_PRD_lecture_theme = Parser(RPD_lecture_theme)\n",
    "parser_RPD_practice_theme = Parser(RPD_practice_theme)\n",
    "parser_RPD_selfwork_theme = Parser(RPD_selfwork_theme)\n",
    "parser_RPD_literature = Parser(RPD_literature)"
   ]
  },
  {
   "cell_type": "code",
   "execution_count": 5,
   "metadata": {},
   "outputs": [],
   "source": [
    "#iterator for rpd parts\n",
    "def iter_headings(paragraphs, parser):\n",
    "    for paragraph in document.paragraphs:\n",
    "         if re.match('\\d.\\d.+', paragraph.text)\\\n",
    "         or (paragraph.style.name.startswith(\"Subtitle\")\\\n",
    "         or paragraph.style.name.startswith('Heading '))\\\n",
    "         or paragraph.alignment ==1:\n",
    "                for match in parser.findall(paragraph.text):\n",
    "                    yield paragraph\n",
    "                    break"
   ]
  },
  {
   "cell_type": "code",
   "execution_count": 7,
   "metadata": {},
   "outputs": [],
   "source": [
    "path = 'Корпус документов/ЧелГУ ИИТ/РПД ИВТ 09.03.01 2014 год набора'\n",
    "path1 = 'Корпус документов/Югра/РПД'\n",
    "\n",
    "for filename in glob.glob(os.path.join(path, '*.docx')):\n",
    "    document = Document(filename)\n",
    "    print('Документ: ' + filename + '\\n')\n",
    "    for heading in iter_headings(document.paragraphs, parser_RPD_task_and_goals):\n",
    "        print ('Цели и задачи ' + heading.text)\n",
    "    for heading in iter_headings(document.paragraphs, parser_RPD_education_result):\n",
    "        print ('Результаты обучения '+ heading.text)\n",
    "    for heading in iter_headings(document.paragraphs, parser_RPD_discipline_link):\n",
    "        print ('Связь дисциплины ' + heading.text)\n",
    "    for heading in iter_headings(document.paragraphs, parser_PRD_discipline_structure):\n",
    "        print ('Структура дисциплины ' + heading.text)\n",
    "    for heading in iter_headings(document.paragraphs, parser_PRD_lecture_theme):\n",
    "        print ('Темы лекций ' + heading.text)\n",
    "    for heading in iter_headings(document.paragraphs, parser_RPD_practice_theme):\n",
    "        print ('Темы практик ' + heading.text)\n",
    "    for heading in iter_headings(document.paragraphs, parser_RPD_selfwork_theme):\n",
    "        print ('Самостоятельая работа ' + heading.text)\n",
    "    for heading in iter_headings(document.paragraphs, parser_RPD_literature):\n",
    "        print ('Литература ' + heading.text)"
   ]
  },
  {
   "cell_type": "code",
   "execution_count": null,
   "metadata": {},
   "outputs": [],
   "source": []
  }
 ],
 "metadata": {
  "kernelspec": {
   "display_name": "Python 3",
   "language": "python",
   "name": "python3"
  },
  "language_info": {
   "codemirror_mode": {
    "name": "ipython",
    "version": 3
   },
   "file_extension": ".py",
   "mimetype": "text/x-python",
   "name": "python",
   "nbconvert_exporter": "python",
   "pygments_lexer": "ipython3",
   "version": "3.6.5"
  }
 },
 "nbformat": 4,
 "nbformat_minor": 2
}
