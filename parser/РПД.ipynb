{
 "cells": [
  {
   "cell_type": "code",
   "execution_count": 2,
   "metadata": {},
   "outputs": [
    {
     "name": "stdout",
     "output_type": "stream",
     "text": [
      "Collecting yargy\n",
      "\u001b[?25l  Downloading https://files.pythonhosted.org/packages/83/62/813ed60a11ccbc42e43c23c07eda24ff58fe0b36673b53acd828efe9ffe6/yargy-0.11.0-py2.py3-none-any.whl (41kB)\n",
      "\u001b[K    100% |████████████████████████████████| 51kB 449kB/s ta 0:00:01\n",
      "\u001b[?25hCollecting intervaltree==2.1.0 (from yargy)\n",
      "  Downloading https://files.pythonhosted.org/packages/ca/c1/450d109b70fa58ca9d77972b02f69222412f9175ccf99fdeaf167be9583c/intervaltree-2.1.0.tar.gz\n",
      "Collecting backports.functools-lru-cache==1.3 (from yargy)\n",
      "  Downloading https://files.pythonhosted.org/packages/d4/40/0b1db94fdfd71353ae67ec444ff28e0a7ecc25212d1cb94c291b6cd226f9/backports.functools_lru_cache-1.3-py2.py3-none-any.whl\n",
      "Requirement already satisfied: pymorphy2==0.8 in /home/autumn_mint/anaconda3/lib/python3.6/site-packages (from yargy) (0.8)\n",
      "Requirement already satisfied: sortedcontainers in /home/autumn_mint/anaconda3/lib/python3.6/site-packages (from intervaltree==2.1.0->yargy) (1.5.10)\n",
      "Requirement already satisfied: dawg-python>=0.7 in /home/autumn_mint/anaconda3/lib/python3.6/site-packages (from pymorphy2==0.8->yargy) (0.7.2)\n",
      "Requirement already satisfied: pymorphy2-dicts<3.0,>=2.4 in /home/autumn_mint/anaconda3/lib/python3.6/site-packages (from pymorphy2==0.8->yargy) (2.4.393442.3710985)\n",
      "Requirement already satisfied: docopt>=0.6 in /home/autumn_mint/anaconda3/lib/python3.6/site-packages (from pymorphy2==0.8->yargy) (0.6.2)\n",
      "Building wheels for collected packages: intervaltree\n",
      "  Running setup.py bdist_wheel for intervaltree ... \u001b[?25ldone\n",
      "\u001b[?25h  Stored in directory: /home/autumn_mint/.cache/pip/wheels/6b/cf/b0/f7ef2d0f504d26f3e9e70c2369e5725591ccfaf67d528fcbc5\n",
      "Successfully built intervaltree\n",
      "Installing collected packages: intervaltree, backports.functools-lru-cache, yargy\n",
      "Successfully installed backports.functools-lru-cache-1.3 intervaltree-2.1.0 yargy-0.11.0\n",
      "\u001b[33mYou are using pip version 18.0, however version 18.1 is available.\n",
      "You should consider upgrading via the 'pip install --upgrade pip' command.\u001b[0m\n"
     ]
    }
   ],
   "source": [
    "!pip install yargy"
   ]
  },
  {
   "cell_type": "code",
   "execution_count": 207,
   "metadata": {},
   "outputs": [],
   "source": [
    "#imports\n",
    "from yargy import *\n",
    "from docx import *\n",
    "from yargy.predicates import gram, is_capitalized, dictionary, is_upper, length_eq\n",
    "from yargy.pipelines import morph_pipeline\n",
    "import re\n",
    "import glob\n",
    "import os"
   ]
  },
  {
   "cell_type": "code",
   "execution_count": 148,
   "metadata": {},
   "outputs": [],
   "source": [
    "document = Document('37_РПД _Экология.docx')"
   ]
  },
  {
   "cell_type": "code",
   "execution_count": 254,
   "metadata": {},
   "outputs": [],
   "source": [
    "#rules\n",
    "\n",
    "RPD_task_and_goals=morph_pipeline([\n",
    "    'цель и задача',\n",
    "    'краткий содержание',\n",
    "    'краткий описание',\n",
    "    'аннотация'\n",
    "])\n",
    "\n",
    "RPD_education_result=morph_pipeline([\n",
    "    'планируемый результат обучение'\n",
    "])\n",
    "RPD_discipline_link = morph_pipeline([\n",
    "    'место учебный дисциплина'\n",
    "])\n",
    "RPD_discipline_structure=morph_pipeline([\n",
    "    'содержание дисциплина'\n",
    "])\n",
    "RPD_lecture_theme = morph_pipeline([\n",
    "    'лекции'\n",
    "])\n",
    "RPD_practice_theme = morph_pipeline([\n",
    "    'практика',\n",
    "    'практическое занятие',\n",
    "    'семинар'\n",
    "])\n",
    "RPD_selfwork_theme = morph_pipeline([\n",
    "    'самостоятельный работа'\n",
    "])\n",
    "RPD_literature = morph_pipeline([\n",
    "    'литература'\n",
    "])"
   ]
  },
  {
   "cell_type": "code",
   "execution_count": 255,
   "metadata": {},
   "outputs": [],
   "source": [
    "#parsers\n",
    "parser_RPD_task_and_goals = Parser(RPD_task_and_goals)\n",
    "parser_RPD_education_result = Parser(RPD_education_result)\n",
    "parser_RPD_discipline_link = Parser(RPD_discipline_link)\n",
    "parser_PRD_discipline_structure = Parser(RPD_discipline_structure)\n",
    "parser_PRD_lecture_theme = Parser(RPD_lecture_theme)\n",
    "parser_RPD_practice_theme = Parser(RPD_practice_theme)\n",
    "parser_RPD_selfwork_theme = Parser(RPD_selfwork_theme)\n",
    "parser_RPD_literature = Parser(RPD_literature)"
   ]
  },
  {
   "cell_type": "code",
   "execution_count": 258,
   "metadata": {},
   "outputs": [],
   "source": [
    "#iterator for rpd parts\n",
    "def iter_headings(paragraphs, parser):\n",
    "    for paragraph in document.paragraphs:\n",
    "         if re.match('\\d.\\d.+', paragraph.text)\\\n",
    "         or (paragraph.style.name.startswith(\"Subtitle\")\\\n",
    "         or paragraph.style.name.startswith('Heading '))\\\n",
    "         or paragraph.alignment ==1:\n",
    "                for match in parser.findall(paragraph.text):\n",
    "                    yield paragraph\n",
    "                    break"
   ]
  },
  {
   "cell_type": "code",
   "execution_count": 259,
   "metadata": {},
   "outputs": [
    {
     "name": "stdout",
     "output_type": "stream",
     "text": [
      "Документ: Корпус документов/ЧелГУ ИИТ/РПД ИВТ 09.03.01 2014 год набора/38_РПД_Проектирование и разработка распределенных программных систем.docx\n",
      "\n",
      "Цели и задачи Цели и задачи освоения учебной дисциплины\n",
      "Результаты обучения Перечень планируемых результатов обучения, соотнесенных с планируемыми результатами освоения образовательной программы\n",
      "Связь дисциплины Место учебной дисциплины в структуре образовательной программы\n",
      "Структура дисциплины 2.2. Содержание дисциплины (модуля), структурированное по темам (разделам) с указанием отведенного на них количества академических часов и видов учебных занятий\n",
      "Темы лекций 2.2.1 Лекции\n",
      "Темы лекций 4.3.2. Примерные вопросы для опроса на лекциях: \n",
      "Темы практик 2.2.2 Практические занятия/Семинары\n",
      "Темы практик 4.2.3 Оценивание докладов на практическом семинаре\n",
      "Самостоятельая работа 2.1. Объем дисциплины в зачетных единицах с указанием количества академических часов,  выделенных на контактную работу обучающихся с преподавателем  (по видам занятий) и на самостоятельную работу обучающихся\n",
      "Самостоятельая работа 3. Перечень учебно-методического обеспечения для самостоятельной работы обучающихся по дисциплине \n",
      "Литература 5. Перечень основной и дополнительной учебной литературы, необходимой для освоения дисциплины (модуля)\n",
      "Документ: Корпус документов/ЧелГУ ИИТ/РПД ИВТ 09.03.01 2014 год набора/41_2_РПД_Разработка Интернет-приложений.docx\n",
      "\n",
      "Цели и задачи Цели и задачи освоения учебной дисциплины\n",
      "Результаты обучения Перечень планируемых результатов обучения, соотнесенных с планируемыми результатами освоения образовательной программы\n",
      "Связь дисциплины Место учебной дисциплины в структуре образовательной программы\n",
      "Структура дисциплины 2.2. Содержание дисциплины (модуля), структурированное по темам (разделам) с указанием отведенного на них количества академических часов и видов учебных занятий\n",
      "Темы лекций 2.2.1 Лекции\n",
      "Темы практик 2.2.2 Практические занятия/Семинары\n",
      "Самостоятельая работа 2.1. Объем дисциплины (модуля) в зачетных единицах с указанием количества академических часов,  выделенных на контактную работу обучающихся с преподавателем  (по видам занятий) и на самостоятельную работу обучающихся\n",
      "Самостоятельая работа 3. Перечень учебно-методического обеспечения для самостоятельной работы обучающихся по дисциплине (модулю)\n",
      "Литература 5.Перечень основной и дополнительной учебной литературы, необходимой для освоения дисциплины (модуля)\n",
      "Документ: Корпус документов/ЧелГУ ИИТ/РПД ИВТ 09.03.01 2014 год набора/42_2_РПД_Технология программирования .Net.docx\n",
      "\n",
      "Цели и задачи Цели и задачи освоения учебной дисциплины\n",
      "Результаты обучения Перечень планируемых результатов обучения, соотнесенных с планируемыми результатами освоения образовательной программы\n",
      "Связь дисциплины Место учебной дисциплины в структуре образовательной программы\n",
      "Структура дисциплины 2.2. Содержание дисциплины (модуля), структурированное по темам (разделам) с указанием отведенного на них количества академических часов и видов учебных занятий\n",
      "Темы лекций 2.2.1 Лекции\n",
      "Темы практик 2.2.2 Практические занятия/Семинары\n",
      "Самостоятельая работа 2.1. Объем дисциплины (модуля) в зачетных единицах с указанием количества академических часов,  выделенных на контактную работу обучающихся с преподавателем  (по видам занятий) и на самостоятельную работу обучающихся\n",
      "Самостоятельая работа 3. Перечень учебно-методического обеспечения для самостоятельной работы обучающихся по дисциплине (модулю)\n",
      "Литература 5. Перечень основной и дополнительной учебной литературы, необходимой для освоения дисциплины (модуля)\n",
      "Документ: Корпус документов/ЧелГУ ИИТ/РПД ИВТ 09.03.01 2014 год набора/41_1_РПД_Интернет-технологии.docx\n",
      "\n",
      "Цели и задачи Цели и задачи освоения учебной дисциплины\n",
      "Результаты обучения Перечень планируемых результатов обучения, соотнесенных с планируемыми результатами освоения образовательной программы\n",
      "Связь дисциплины Место учебной дисциплины в структуре образовательной программы\n",
      "Структура дисциплины 2.2. Содержание дисциплины (модуля), структурированное по темам (разделам) с указанием отведенного на них количества академических часов и видов учебных занятий\n",
      "Темы лекций 2.2.1 Лекции\n",
      "Темы практик 2.2.2 Практические занятия/Семинары\n",
      "Самостоятельая работа 2.1. Объем дисциплины (модуля) в зачетных единицах с указанием количества академических часов,  выделенных на контактную работу обучающихся с преподавателем  (по видам занятий) и на самостоятельную работу обучающихся\n",
      "Самостоятельая работа 3. Перечень учебно-методического обеспечения для самостоятельной работы обучающихся по дисциплине (модулю)\n",
      "Литература 5.Перечень основной и дополнительной учебной литературы, необходимой для освоения дисциплины (модуля)\n",
      "Документ: Корпус документов/ЧелГУ ИИТ/РПД ИВТ 09.03.01 2014 год набора/6_РПД_Линейная алгебра и аналитическая геометрия.docx\n",
      "\n",
      "Цели и задачи Цели и задачи освоения учебной дисциплины\n",
      "Результаты обучения Перечень планируемых результатов обучения, соотнесенных с планируемыми результатами освоения образовательной программы\n",
      "Связь дисциплины Место учебной дисциплины в структуре образовательной программы\n",
      "Структура дисциплины 2.2. Содержание дисциплины (модуля), структурированное по темам (разделам) с указанием отведенного на них количества академических часов и видов учебных занятий\n",
      "Темы лекций 2.2.1 Лекции\n",
      "Темы практик 2.2.2 Практические занятия/Семинары\n",
      "Самостоятельая работа 2.1. Объем дисциплины в зачетных единицах с указанием количества академических часов,  выделенных на контактную работу обучающихся с преподавателем  (по видам занятий) и на самостоятельную работу обучающихся\n",
      "Самостоятельая работа 3. Перечень учебно-методического обеспечения для самостоятельной работы обучающихся по дисциплине \n",
      "Литература Таблица 5 — Тема, объем и литература для СРО очной/заочной формы обучения\n",
      "Литература 5.Перечень основной и дополнительной учебной литературы, необходимой для освоения дисциплины (модуля)\n"
     ]
    }
   ],
   "source": [
    "path = 'Корпус документов/ЧелГУ ИИТ/РПД ИВТ 09.03.01 2014 год набора'\n",
    "path1 = 'Корпус документов/Югра/РПД'\n",
    "\n",
    "for filename in glob.glob(os.path.join(path, '*.docx')):\n",
    "    document = Document(filename)\n",
    "    print('Документ: ' + filename + '\\n')\n",
    "    for heading in iter_headings(document.paragraphs, parser_RPD_task_and_goals):\n",
    "        print ('Цели и задачи ' + heading.text)\n",
    "    for heading in iter_headings(document.paragraphs, parser_RPD_education_result):\n",
    "        print ('Результаты обучения '+ heading.text)\n",
    "    for heading in iter_headings(document.paragraphs, parser_RPD_discipline_link):\n",
    "        print ('Связь дисциплины ' + heading.text)\n",
    "    for heading in iter_headings(document.paragraphs, parser_PRD_discipline_structure):\n",
    "        print ('Структура дисциплины ' + heading.text)\n",
    "    for heading in iter_headings(document.paragraphs, parser_PRD_lecture_theme):\n",
    "        print ('Темы лекций ' + heading.text)\n",
    "    for heading in iter_headings(document.paragraphs, parser_RPD_practice_theme):\n",
    "        print ('Темы практик ' + heading.text)\n",
    "    for heading in iter_headings(document.paragraphs, parser_RPD_selfwork_theme):\n",
    "        print ('Самостоятельая работа ' + heading.text)\n",
    "    for heading in iter_headings(document.paragraphs, parser_RPD_literature):\n",
    "        print ('Литература ' + heading.text)"
   ]
  }
 ],
 "metadata": {
  "kernelspec": {
   "display_name": "Python 3",
   "language": "python",
   "name": "python3"
  },
  "language_info": {
   "codemirror_mode": {
    "name": "ipython",
    "version": 3
   },
   "file_extension": ".py",
   "mimetype": "text/x-python",
   "name": "python",
   "nbconvert_exporter": "python",
   "pygments_lexer": "ipython3",
   "version": "3.6.5"
  }
 },
 "nbformat": 4,
 "nbformat_minor": 2
}
